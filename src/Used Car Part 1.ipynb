{
 "cells": [
  {
   "cell_type": "markdown",
   "metadata": {},
   "source": [
    "# Data Analysis and Machine Learning Project\n",
    "\n",
    "\n",
    "### Part 1:\n",
    "Project Contents:\n",
    "- Introduction\n",
    "- Data Importing, Exploring and Cleaning\n",
    "- Data Visualisation\n",
    "- Final cleaning before modelling\n",
    "\n",
    "\n",
    "\n",
    "### Introduction \n",
    "\n",
    "I will be exploring used-car data taken from Kaggle. I will be exploring certain trends with in the data. Then, using machine learning modelling, I'll try to predict a car price for a certain model of car, based on various features. \n",
    "\n",
    "Some questions I'll be exploring during the first part of the project:\n",
    "- Does location impact the price?\n",
    "- What are the biggest features that impact in price?\n",
    "- Is there a correlation between car condition and odometer? "
   ]
  },
  {
   "cell_type": "markdown",
   "metadata": {},
   "source": [
    "# Data Importing, Exploring and Cleaning\n",
    "### Data Importing"
   ]
  },
  {
   "cell_type": "code",
   "execution_count": 175,
   "metadata": {},
   "outputs": [],
   "source": [
    "import pandas as pd\n",
    "import matplotlib.pyplot as plt\n",
    "import seaborn as sns\n",
    "\n",
    "%matplotlib inline"
   ]
  },
  {
   "cell_type": "code",
   "execution_count": 176,
   "metadata": {},
   "outputs": [],
   "source": [
    "#Importing Data\n",
    "df = pd.read_csv(\"vehicles.csv\")"
   ]
  },
  {
   "cell_type": "markdown",
   "metadata": {},
   "source": [
    "### Exploring"
   ]
  },
  {
   "cell_type": "code",
   "execution_count": 177,
   "metadata": {},
   "outputs": [
    {
     "data": {
      "text/plain": [
       "array(['Unnamed: 0', 'id', 'url', 'region', 'region_url', 'price', 'year',\n",
       "       'manufacturer', 'model', 'condition', 'cylinders', 'fuel',\n",
       "       'odometer', 'title_status', 'transmission', 'VIN', 'drive', 'size',\n",
       "       'type', 'paint_color', 'image_url', 'description', 'state', 'lat',\n",
       "       'long', 'posting_date'], dtype=object)"
      ]
     },
     "execution_count": 177,
     "metadata": {},
     "output_type": "execute_result"
    }
   ],
   "source": [
    "#Checking what columns the data has \n",
    "df.columns.values"
   ]
  },
  {
   "cell_type": "markdown",
   "metadata": {},
   "source": [
    "Loking to see what models are popular. I'm going to explore Ford f-150, as I want to be able to predict the price for a certain model, based on various features."
   ]
  },
  {
   "cell_type": "code",
   "execution_count": 178,
   "metadata": {},
   "outputs": [
    {
     "data": {
      "text/plain": [
       "f-150                       8370\n",
       "silverado 1500              5964\n",
       "1500                        4211\n",
       "camry                       4033\n",
       "accord                      3730\n",
       "                            ... \n",
       "fpace 35t prestige             1\n",
       "velar s                        1\n",
       "impreza 2.0i sport hatch       1\n",
       "rc 350 f-sport awd             1\n",
       "Benz C240 4 matic              1\n",
       "Name: model, Length: 31520, dtype: int64"
      ]
     },
     "execution_count": 178,
     "metadata": {},
     "output_type": "execute_result"
    }
   ],
   "source": [
    "df[\"model\"].value_counts()"
   ]
  },
  {
   "cell_type": "code",
   "execution_count": 179,
   "metadata": {},
   "outputs": [],
   "source": [
    "#Splitting ford data\n",
    "df_ford = df[df[\"manufacturer\"] == \"ford\"] "
   ]
  },
  {
   "cell_type": "code",
   "execution_count": 180,
   "metadata": {},
   "outputs": [],
   "source": [
    "#Just taking the f-150 models\n",
    "df_f150 = df[df[\"model\"] == \"f-150\"]"
   ]
  },
  {
   "cell_type": "code",
   "execution_count": 181,
   "metadata": {},
   "outputs": [
    {
     "name": "stdout",
     "output_type": "stream",
     "text": [
      "<class 'pandas.core.frame.DataFrame'>\n",
      "Int64Index: 8370 entries, 20 to 458011\n",
      "Data columns (total 26 columns):\n",
      " #   Column        Non-Null Count  Dtype  \n",
      "---  ------        --------------  -----  \n",
      " 0   Unnamed: 0    8370 non-null   int64  \n",
      " 1   id            8370 non-null   int64  \n",
      " 2   url           8370 non-null   object \n",
      " 3   region        8370 non-null   object \n",
      " 4   region_url    8370 non-null   object \n",
      " 5   price         8370 non-null   int64  \n",
      " 6   year          8370 non-null   float64\n",
      " 7   manufacturer  8370 non-null   object \n",
      " 8   model         8370 non-null   object \n",
      " 9   condition     3483 non-null   object \n",
      " 10  cylinders     4705 non-null   object \n",
      " 11  fuel          8315 non-null   object \n",
      " 12  odometer      7400 non-null   float64\n",
      " 13  title_status  8356 non-null   object \n",
      " 14  transmission  8314 non-null   object \n",
      " 15  VIN           5739 non-null   object \n",
      " 16  drive         6968 non-null   object \n",
      " 17  size          2595 non-null   object \n",
      " 18  type          6500 non-null   object \n",
      " 19  paint_color   5613 non-null   object \n",
      " 20  image_url     8370 non-null   object \n",
      " 21  description   8369 non-null   object \n",
      " 22  state         8370 non-null   object \n",
      " 23  lat           8103 non-null   float64\n",
      " 24  long          8103 non-null   float64\n",
      " 25  posting_date  8370 non-null   object \n",
      "dtypes: float64(4), int64(3), object(19)\n",
      "memory usage: 1.7+ MB\n"
     ]
    }
   ],
   "source": [
    "#Checking what columns the data has\n",
    "df_f150.info()"
   ]
  },
  {
   "cell_type": "markdown",
   "metadata": {},
   "source": [
    "### Data Cleaning\n",
    "\n",
    "Based on the questions in the introduction. I will be focusing on the following columns:\n",
    "- region / price / year / condition / cylinders / odomter / transmission / drive\n",
    "- Will keep posting date in too, to possibly explore recent trends later on and if Covid has impacted price\n",
    "\n",
    "All other columns will be dropped in the cleaning stage. As you can see from the null values below. Condition has 4887 null values, half of the data. I will make a seperate df for dropping null values for conditions, so I have a lot of data to explore other trends and model later on.\n"
   ]
  },
  {
   "cell_type": "code",
   "execution_count": 182,
   "metadata": {},
   "outputs": [
    {
     "data": {
      "text/plain": [
       "Unnamed: 0         0\n",
       "id                 0\n",
       "url                0\n",
       "region             0\n",
       "region_url         0\n",
       "price              0\n",
       "year               0\n",
       "manufacturer       0\n",
       "model              0\n",
       "condition       4887\n",
       "cylinders       3665\n",
       "fuel              55\n",
       "odometer         970\n",
       "title_status      14\n",
       "transmission      56\n",
       "VIN             2631\n",
       "drive           1402\n",
       "size            5775\n",
       "type            1870\n",
       "paint_color     2757\n",
       "image_url          0\n",
       "description        1\n",
       "state              0\n",
       "lat              267\n",
       "long             267\n",
       "posting_date       0\n",
       "dtype: int64"
      ]
     },
     "execution_count": 182,
     "metadata": {},
     "output_type": "execute_result"
    }
   ],
   "source": [
    "df_f150.isnull().sum()"
   ]
  },
  {
   "cell_type": "code",
   "execution_count": 183,
   "metadata": {},
   "outputs": [
    {
     "name": "stderr",
     "output_type": "stream",
     "text": [
      "C:\\Users\\ellio\\Anaconda3\\lib\\site-packages\\pandas\\core\\frame.py:4163: SettingWithCopyWarning: \n",
      "A value is trying to be set on a copy of a slice from a DataFrame\n",
      "\n",
      "See the caveats in the documentation: https://pandas.pydata.org/pandas-docs/stable/user_guide/indexing.html#returning-a-view-versus-a-copy\n",
      "  return super().drop(\n"
     ]
    }
   ],
   "source": [
    "df_f150.drop([\"id\", \"url\", \"region_url\", \"title_status\", \"VIN\", \"type\", \"paint_color\", \"image_url\", \n",
    "              \"description\", \"lat\", \"long\", \"model\", \"manufacturer\"\n",
    "               ], axis = 1, inplace = True)"
   ]
  },
  {
   "cell_type": "code",
   "execution_count": 184,
   "metadata": {},
   "outputs": [],
   "source": [
    "#Dropping null values\n",
    "df_condition = df_f150.dropna()"
   ]
  },
  {
   "cell_type": "code",
   "execution_count": 185,
   "metadata": {},
   "outputs": [
    {
     "name": "stdout",
     "output_type": "stream",
     "text": [
      "<class 'pandas.core.frame.DataFrame'>\n",
      "Int64Index: 1834 entries, 261 to 457959\n",
      "Data columns (total 13 columns):\n",
      " #   Column        Non-Null Count  Dtype  \n",
      "---  ------        --------------  -----  \n",
      " 0   Unnamed: 0    1834 non-null   int64  \n",
      " 1   region        1834 non-null   object \n",
      " 2   price         1834 non-null   int64  \n",
      " 3   year          1834 non-null   float64\n",
      " 4   condition     1834 non-null   object \n",
      " 5   cylinders     1834 non-null   object \n",
      " 6   fuel          1834 non-null   object \n",
      " 7   odometer      1834 non-null   float64\n",
      " 8   transmission  1834 non-null   object \n",
      " 9   drive         1834 non-null   object \n",
      " 10  size          1834 non-null   object \n",
      " 11  state         1834 non-null   object \n",
      " 12  posting_date  1834 non-null   object \n",
      "dtypes: float64(2), int64(2), object(9)\n",
      "memory usage: 200.6+ KB\n"
     ]
    }
   ],
   "source": [
    "df_condition.info()"
   ]
  },
  {
   "cell_type": "markdown",
   "metadata": {},
   "source": [
    "I'm going to use 2 clean datasets, as a lot of the null values are for condition and size. For modelling later, it's unlikely I will need these columns. So df_condition will be the cleaned data set including condition and size. Then the second dataaset, df_clean, will drop these two columns so the sample will be bigger."
   ]
  },
  {
   "cell_type": "code",
   "execution_count": 186,
   "metadata": {},
   "outputs": [],
   "source": [
    "df_clean = df_f150.drop([\"condition\", \"size\", \"cylinders\"], axis = 1)"
   ]
  },
  {
   "cell_type": "code",
   "execution_count": 187,
   "metadata": {},
   "outputs": [],
   "source": [
    "df_clean.dropna(inplace = True)"
   ]
  },
  {
   "cell_type": "code",
   "execution_count": 188,
   "metadata": {},
   "outputs": [
    {
     "name": "stdout",
     "output_type": "stream",
     "text": [
      "<class 'pandas.core.frame.DataFrame'>\n",
      "Int64Index: 6333 entries, 107 to 458011\n",
      "Data columns (total 10 columns):\n",
      " #   Column        Non-Null Count  Dtype  \n",
      "---  ------        --------------  -----  \n",
      " 0   Unnamed: 0    6333 non-null   int64  \n",
      " 1   region        6333 non-null   object \n",
      " 2   price         6333 non-null   int64  \n",
      " 3   year          6333 non-null   float64\n",
      " 4   fuel          6333 non-null   object \n",
      " 5   odometer      6333 non-null   float64\n",
      " 6   transmission  6333 non-null   object \n",
      " 7   drive         6333 non-null   object \n",
      " 8   state         6333 non-null   object \n",
      " 9   posting_date  6333 non-null   object \n",
      "dtypes: float64(2), int64(2), object(6)\n",
      "memory usage: 544.2+ KB\n"
     ]
    }
   ],
   "source": [
    "df_clean.info()"
   ]
  },
  {
   "cell_type": "code",
   "execution_count": 189,
   "metadata": {},
   "outputs": [],
   "source": [
    "#Going to only take cars in the last 10 years\n",
    "df_clean = df_clean[df_clean[\"year\"] > 2010]\n",
    "df_condition = df_condition[df_condition[\"year\"] > 2010]"
   ]
  },
  {
   "cell_type": "code",
   "execution_count": 190,
   "metadata": {},
   "outputs": [
    {
     "data": {
      "text/plain": [
       "((4924, 10), (1124, 13))"
      ]
     },
     "execution_count": 190,
     "metadata": {},
     "output_type": "execute_result"
    }
   ],
   "source": [
    "df_clean.shape, df_condition.shape"
   ]
  },
  {
   "cell_type": "code",
   "execution_count": 191,
   "metadata": {},
   "outputs": [],
   "source": [
    "#Saving df's to csv\n",
    "df_clean.to_csv(\"f150_clean.csv\")\n",
    "df_f150.to_csv(\"df150.csv\")\n",
    "df_condition.to_csv(\"f150_condtion_clean.csv\")"
   ]
  },
  {
   "cell_type": "markdown",
   "metadata": {},
   "source": [
    "# Data Visualisation\n",
    "\n",
    "A reminder of questions posted in introduction:\n",
    "- Does the location impact the price?\n",
    "- What are the biggest features that impact in price?\n",
    "- Is there a correlation between car condition and odometer? \n",
    "\n",
    "\n",
    "\n"
   ]
  },
  {
   "cell_type": "code",
   "execution_count": 192,
   "metadata": {},
   "outputs": [
    {
     "data": {
      "text/plain": [
       "wa    447\n",
       "ca    318\n",
       "or    307\n",
       "fl    285\n",
       "tx    272\n",
       "mt    254\n",
       "mi    236\n",
       "oh    199\n",
       "id    194\n",
       "co    179\n",
       "Name: state, dtype: int64"
      ]
     },
     "execution_count": 192,
     "metadata": {},
     "output_type": "execute_result"
    }
   ],
   "source": [
    "#Will take top 10 States for looking at location and price\n",
    "df_clean[\"state\"].value_counts().head(10)"
   ]
  },
  {
   "cell_type": "code",
   "execution_count": 193,
   "metadata": {},
   "outputs": [],
   "source": [
    "#Top 10 States\n",
    "states = [\"wa\", \"ca\", \"fl\", \"or\", \"tx\", \"mi\", \"mt\", \"oh\", \"co\", \"id\"]    "
   ]
  },
  {
   "cell_type": "code",
   "execution_count": 194,
   "metadata": {},
   "outputs": [],
   "source": [
    "#New df for states top 10 states\n",
    "df_state = df_clean.loc[df_clean[\"state\"].isin(states)]"
   ]
  },
  {
   "cell_type": "code",
   "execution_count": 195,
   "metadata": {},
   "outputs": [
    {
     "data": {
      "text/plain": [
       "(2691, 10)"
      ]
     },
     "execution_count": 195,
     "metadata": {},
     "output_type": "execute_result"
    }
   ],
   "source": [
    "df_state.shape"
   ]
  },
  {
   "cell_type": "code",
   "execution_count": 196,
   "metadata": {},
   "outputs": [
    {
     "name": "stderr",
     "output_type": "stream",
     "text": [
      "C:\\Users\\ellio\\Anaconda3\\lib\\site-packages\\seaborn\\_decorators.py:36: FutureWarning: Pass the following variables as keyword args: x, y. From version 0.12, the only valid positional argument will be `data`, and passing other arguments without an explicit keyword will result in an error or misinterpretation.\n",
      "  warnings.warn(\n"
     ]
    },
    {
     "data": {
      "image/png": "[encoded data removed]",
      "text/plain": [
       "<Figure size 432x288 with 1 Axes>"
      ]
     },
     "metadata": {
      "needs_background": "light"
     },
     "output_type": "display_data"
    }
   ],
   "source": [
    "state_bar = sns.barplot(df_state[\"state\"], df_state[\"price\"])\n",
    "state_bar.set_title(\"Average Price By State\");\n",
    "state_bar.set_xlabel(\"State\");\n",
    "state_bar.set_ylabel(\"Price $\");\n",
    "plt.show();"
   ]
  },
  {
   "cell_type": "markdown",
   "metadata": {},
   "source": [
    "There is a few of the top 10 States that are varying. However, there are a lot of variables that can impact the price. I'll look into the year of the cars to see if that's causing the range of prices in each State."
   ]
  },
  {
   "cell_type": "code",
   "execution_count": 197,
   "metadata": {},
   "outputs": [],
   "source": [
    "# Taking WA state to look at model year\n",
    "df_wa = df_state[df_state[\"state\"] == \"wa\"]"
   ]
  },
  {
   "cell_type": "code",
   "execution_count": 198,
   "metadata": {},
   "outputs": [
    {
     "data": {
      "text/plain": [
       "2018.0    135\n",
       "2017.0     94\n",
       "2013.0     45\n",
       "2019.0     43\n",
       "2012.0     38\n",
       "2015.0     29\n",
       "2014.0     21\n",
       "2020.0     18\n",
       "2016.0     17\n",
       "2011.0      7\n",
       "Name: year, dtype: int64"
      ]
     },
     "execution_count": 198,
     "metadata": {},
     "output_type": "execute_result"
    }
   ],
   "source": [
    "df_wa[\"year\"].value_counts()"
   ]
  },
  {
   "cell_type": "code",
   "execution_count": 199,
   "metadata": {},
   "outputs": [],
   "source": [
    "#Taking ID as it was by far the lowest state on the list\n",
    "df_id = df_state[df_state[\"state\"] == \"id\"]"
   ]
  },
  {
   "cell_type": "code",
   "execution_count": 200,
   "metadata": {},
   "outputs": [
    {
     "data": {
      "text/plain": [
       "2013.0    41\n",
       "2017.0    32\n",
       "2018.0    27\n",
       "2015.0    21\n",
       "2014.0    21\n",
       "2020.0    15\n",
       "2016.0    14\n",
       "2012.0    13\n",
       "2011.0     7\n",
       "2019.0     3\n",
       "Name: year, dtype: int64"
      ]
     },
     "execution_count": 200,
     "metadata": {},
     "output_type": "execute_result"
    }
   ],
   "source": [
    "df_id[\"year\"].value_counts()"
   ]
  },
  {
   "cell_type": "markdown",
   "metadata": {},
   "source": [
    "The lowest price was for ID, from above, we can see that it is just the model's year that is most likely causing the difference and doesn't have much correlation to the State."
   ]
  },
  {
   "cell_type": "code",
   "execution_count": 201,
   "metadata": {},
   "outputs": [],
   "source": [
    "#Grouping by year to explore some price trends\n",
    "df_year = df_clean.groupby(\"year\").mean()"
   ]
  },
  {
   "cell_type": "code",
   "execution_count": 202,
   "metadata": {},
   "outputs": [
    {
     "data": {
      "text/html": [
       "<div>\n",
       "<style scoped>\n",
       "    .dataframe tbody tr th:only-of-type {\n",
       "        vertical-align: middle;\n",
       "    }\n",
       "\n",
       "    .dataframe tbody tr th {\n",
       "        vertical-align: top;\n",
       "    }\n",
       "\n",
       "    .dataframe thead th {\n",
       "        text-align: right;\n",
       "    }\n",
       "</style>\n",
       "<table border=\"1\" class=\"dataframe\">\n",
       "  <thead>\n",
       "    <tr style=\"text-align: right;\">\n",
       "      <th></th>\n",
       "      <th>Unnamed: 0</th>\n",
       "      <th>price</th>\n",
       "      <th>odometer</th>\n",
       "    </tr>\n",
       "    <tr>\n",
       "      <th>year</th>\n",
       "      <th></th>\n",
       "      <th></th>\n",
       "      <th></th>\n",
       "    </tr>\n",
       "  </thead>\n",
       "  <tbody>\n",
       "    <tr>\n",
       "      <th>2011.0</th>\n",
       "      <td>250564.602649</td>\n",
       "      <td>14876.943709</td>\n",
       "      <td>131577.225166</td>\n",
       "    </tr>\n",
       "    <tr>\n",
       "      <th>2012.0</th>\n",
       "      <td>227804.994186</td>\n",
       "      <td>16712.258721</td>\n",
       "      <td>129319.273256</td>\n",
       "    </tr>\n",
       "    <tr>\n",
       "      <th>2013.0</th>\n",
       "      <td>248506.986111</td>\n",
       "      <td>17443.209877</td>\n",
       "      <td>119985.924383</td>\n",
       "    </tr>\n",
       "    <tr>\n",
       "      <th>2014.0</th>\n",
       "      <td>234916.906606</td>\n",
       "      <td>19403.635535</td>\n",
       "      <td>109886.239180</td>\n",
       "    </tr>\n",
       "    <tr>\n",
       "      <th>2015.0</th>\n",
       "      <td>241258.084746</td>\n",
       "      <td>21727.307203</td>\n",
       "      <td>90069.775424</td>\n",
       "    </tr>\n",
       "    <tr>\n",
       "      <th>2016.0</th>\n",
       "      <td>235871.521352</td>\n",
       "      <td>23576.587189</td>\n",
       "      <td>77094.080071</td>\n",
       "    </tr>\n",
       "    <tr>\n",
       "      <th>2017.0</th>\n",
       "      <td>249203.048493</td>\n",
       "      <td>26548.853211</td>\n",
       "      <td>58904.934469</td>\n",
       "    </tr>\n",
       "    <tr>\n",
       "      <th>2018.0</th>\n",
       "      <td>263070.325607</td>\n",
       "      <td>27578.550773</td>\n",
       "      <td>44956.985651</td>\n",
       "    </tr>\n",
       "    <tr>\n",
       "      <th>2019.0</th>\n",
       "      <td>251713.830729</td>\n",
       "      <td>31868.708333</td>\n",
       "      <td>21987.059896</td>\n",
       "    </tr>\n",
       "    <tr>\n",
       "      <th>2020.0</th>\n",
       "      <td>255948.413462</td>\n",
       "      <td>35078.259615</td>\n",
       "      <td>11076.250000</td>\n",
       "    </tr>\n",
       "  </tbody>\n",
       "</table>\n",
       "</div>"
      ],
      "text/plain": [
       "           Unnamed: 0         price       odometer\n",
       "year                                              \n",
       "2011.0  250564.602649  14876.943709  131577.225166\n",
       "2012.0  227804.994186  16712.258721  129319.273256\n",
       "2013.0  248506.986111  17443.209877  119985.924383\n",
       "2014.0  234916.906606  19403.635535  109886.239180\n",
       "2015.0  241258.084746  21727.307203   90069.775424\n",
       "2016.0  235871.521352  23576.587189   77094.080071\n",
       "2017.0  249203.048493  26548.853211   58904.934469\n",
       "2018.0  263070.325607  27578.550773   44956.985651\n",
       "2019.0  251713.830729  31868.708333   21987.059896\n",
       "2020.0  255948.413462  35078.259615   11076.250000"
      ]
     },
     "execution_count": 202,
     "metadata": {},
     "output_type": "execute_result"
    }
   ],
   "source": [
    "df_year"
   ]
  },
  {
   "cell_type": "code",
   "execution_count": 203,
   "metadata": {},
   "outputs": [
    {
     "data": {
      "image/png": "[encoded data removed]",
      "text/plain": [
       "<Figure size 432x288 with 1 Axes>"
      ]
     },
     "metadata": {
      "needs_background": "light"
     },
     "output_type": "display_data"
    }
   ],
   "source": [
    "df_year.reset_index(inplace = True)\n",
    "year_bar = sns.barplot(x = \"year\", y = \"price\", data = df_year)\n",
    "year_bar.set_title(\"Year vs Average Price\")\n",
    "year_bar.set_xlabel(\"Year (2011-2020)\")\n",
    "year_bar.set_ylabel(\"Average Price $\")\n",
    "plt.show();\n"
   ]
  },
  {
   "cell_type": "markdown",
   "metadata": {},
   "source": [
    "As expected there is a clear correlation between model year and price. I will now look into the car conditions, before modelling a price predictor."
   ]
  },
  {
   "cell_type": "code",
   "execution_count": 204,
   "metadata": {},
   "outputs": [
    {
     "data": {
      "image/png": "[encoded data removed]",
      "text/plain": [
       "<Figure size 432x288 with 1 Axes>"
      ]
     },
     "metadata": {
      "needs_background": "light"
     },
     "output_type": "display_data"
    }
   ],
   "source": [
    "condition_bar = sns.barplot(x = \"condition\", y = \"price\", data = df_condition)\n",
    "condition_bar.set_title(\"Condition vs Average Price\")\n",
    "year_bar.set_ylabel(\"Average $\")\n",
    "year_bar.set_xlabel(\"Condition\")\n",
    "plt.show();\n"
   ]
  },
  {
   "cell_type": "markdown",
   "metadata": {},
   "source": [
    "As expected, the condition is a big factor for how much the car sells for. I'll now look into some odometer data, then move on to some modelling to try and predict prices."
   ]
  },
  {
   "cell_type": "code",
   "execution_count": 205,
   "metadata": {},
   "outputs": [
    {
     "data": {
      "image/png": "[encoded data removed]",
      "text/plain": [
       "<Figure size 432x288 with 1 Axes>"
      ]
     },
     "metadata": {
      "needs_background": "light"
     },
     "output_type": "display_data"
    }
   ],
   "source": [
    "condition_odo_bar = sns.barplot(x = \"condition\", y = \"odometer\", data = df_condition)\n",
    "condition_odo_bar.set_title(\"Condition vs Odometer\")\n",
    "year_bar.set_ylabel(\"Odometer\")\n",
    "year_bar.set_xlabel(\"Condition\")\n",
    "plt.show();"
   ]
  },
  {
   "cell_type": "markdown",
   "metadata": {},
   "source": [
    "This part was mostly to clean the data for the modelling in part two. It contained some exploration and visualisation. The main part of this project was the modelling, so there was no main goal in this visualisation part. I only explored some obvious correlations.  \n",
    "\n",
    "I will now do a final cleaning to prepare the data for modelling. Dropping all columns except: price, year, odometer and condition.\n",
    "Condiiton will need to be converted from categorical. I'll use pandas get_dummies for this."
   ]
  },
  {
   "cell_type": "code",
   "execution_count": 206,
   "metadata": {},
   "outputs": [
    {
     "data": {
      "text/plain": [
       "Index(['Unnamed: 0', 'region', 'price', 'year', 'condition', 'cylinders',\n",
       "       'fuel', 'odometer', 'transmission', 'drive', 'size', 'state',\n",
       "       'posting_date'],\n",
       "      dtype='object')"
      ]
     },
     "execution_count": 206,
     "metadata": {},
     "output_type": "execute_result"
    }
   ],
   "source": [
    "df_condition.columns"
   ]
  },
  {
   "cell_type": "code",
   "execution_count": 207,
   "metadata": {},
   "outputs": [],
   "source": [
    "df_clean_model = df_condition.drop([\"region\", \"fuel\", \"cylinders\", \"transmission\", \"drive\", \"size\", \n",
    "                                    \"state\", \"posting_date\"], axis = 1)"
   ]
  },
  {
   "cell_type": "code",
   "execution_count": 208,
   "metadata": {},
   "outputs": [],
   "source": [
    "df_clean_model = pd.get_dummies(df_clean_model)"
   ]
  },
  {
   "cell_type": "code",
   "execution_count": 209,
   "metadata": {},
   "outputs": [
    {
     "data": {
      "text/html": [
       "<div>\n",
       "<style scoped>\n",
       "    .dataframe tbody tr th:only-of-type {\n",
       "        vertical-align: middle;\n",
       "    }\n",
       "\n",
       "    .dataframe tbody tr th {\n",
       "        vertical-align: top;\n",
       "    }\n",
       "\n",
       "    .dataframe thead th {\n",
       "        text-align: right;\n",
       "    }\n",
       "</style>\n",
       "<table border=\"1\" class=\"dataframe\">\n",
       "  <thead>\n",
       "    <tr style=\"text-align: right;\">\n",
       "      <th></th>\n",
       "      <th>Unnamed: 0</th>\n",
       "      <th>price</th>\n",
       "      <th>year</th>\n",
       "      <th>odometer</th>\n",
       "      <th>condition_excellent</th>\n",
       "      <th>condition_fair</th>\n",
       "      <th>condition_good</th>\n",
       "      <th>condition_like new</th>\n",
       "      <th>condition_new</th>\n",
       "    </tr>\n",
       "  </thead>\n",
       "  <tbody>\n",
       "    <tr>\n",
       "      <th>396</th>\n",
       "      <td>396</td>\n",
       "      <td>34900</td>\n",
       "      <td>2015.0</td>\n",
       "      <td>87405.0</td>\n",
       "      <td>0</td>\n",
       "      <td>0</td>\n",
       "      <td>1</td>\n",
       "      <td>0</td>\n",
       "      <td>0</td>\n",
       "    </tr>\n",
       "    <tr>\n",
       "      <th>399</th>\n",
       "      <td>399</td>\n",
       "      <td>37900</td>\n",
       "      <td>2016.0</td>\n",
       "      <td>51615.0</td>\n",
       "      <td>0</td>\n",
       "      <td>0</td>\n",
       "      <td>1</td>\n",
       "      <td>0</td>\n",
       "      <td>0</td>\n",
       "    </tr>\n",
       "    <tr>\n",
       "      <th>401</th>\n",
       "      <td>401</td>\n",
       "      <td>21900</td>\n",
       "      <td>2015.0</td>\n",
       "      <td>110602.0</td>\n",
       "      <td>0</td>\n",
       "      <td>0</td>\n",
       "      <td>1</td>\n",
       "      <td>0</td>\n",
       "      <td>0</td>\n",
       "    </tr>\n",
       "    <tr>\n",
       "      <th>498</th>\n",
       "      <td>498</td>\n",
       "      <td>10995</td>\n",
       "      <td>2012.0</td>\n",
       "      <td>175749.0</td>\n",
       "      <td>1</td>\n",
       "      <td>0</td>\n",
       "      <td>0</td>\n",
       "      <td>0</td>\n",
       "      <td>0</td>\n",
       "    </tr>\n",
       "    <tr>\n",
       "      <th>1080</th>\n",
       "      <td>1080</td>\n",
       "      <td>19990</td>\n",
       "      <td>2013.0</td>\n",
       "      <td>174623.0</td>\n",
       "      <td>0</td>\n",
       "      <td>0</td>\n",
       "      <td>1</td>\n",
       "      <td>0</td>\n",
       "      <td>0</td>\n",
       "    </tr>\n",
       "  </tbody>\n",
       "</table>\n",
       "</div>"
      ],
      "text/plain": [
       "      Unnamed: 0  price    year  odometer  condition_excellent  \\\n",
       "396          396  34900  2015.0   87405.0                    0   \n",
       "399          399  37900  2016.0   51615.0                    0   \n",
       "401          401  21900  2015.0  110602.0                    0   \n",
       "498          498  10995  2012.0  175749.0                    1   \n",
       "1080        1080  19990  2013.0  174623.0                    0   \n",
       "\n",
       "      condition_fair  condition_good  condition_like new  condition_new  \n",
       "396                0               1                   0              0  \n",
       "399                0               1                   0              0  \n",
       "401                0               1                   0              0  \n",
       "498                0               0                   0              0  \n",
       "1080               0               1                   0              0  "
      ]
     },
     "execution_count": 209,
     "metadata": {},
     "output_type": "execute_result"
    }
   ],
   "source": [
    "df_clean_model.head(5)"
   ]
  },
  {
   "cell_type": "code",
   "execution_count": 210,
   "metadata": {},
   "outputs": [],
   "source": [
    "df_clean_model = df_clean_model.rename(columns= {\"condition_excellent\":\"excellent\", \"condition_fair\":\"fair\",\n",
    "                                                \"condition_good\":\"good\", \"condition_like new\": \"like_new\",\n",
    "                                                \"condition_new\":\"new\"})"
   ]
  },
  {
   "cell_type": "code",
   "execution_count": 211,
   "metadata": {},
   "outputs": [],
   "source": [
    "df_clean_model.to_csv(\"df_clean_model.csv\")"
   ]
  }
 ],
 "metadata": {
  "kernelspec": {
   "display_name": "Python 3",
   "language": "python",
   "name": "python3"
  },
  "language_info": {
   "codemirror_mode": {
    "name": "ipython",
    "version": 3
   },
   "file_extension": ".py",
   "mimetype": "text/x-python",
   "name": "python",
   "nbconvert_exporter": "python",
   "pygments_lexer": "ipython3",
   "version": "3.8.5"
  }
 },
 "nbformat": 4,
 "nbformat_minor": 4
}
