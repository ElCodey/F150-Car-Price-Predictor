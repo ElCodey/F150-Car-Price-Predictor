{
 "cells": [
  {
   "cell_type": "code",
   "execution_count": 8,
   "metadata": {},
   "outputs": [],
   "source": [
    "import pandas as pd\n",
    "\n",
    "from modelling import linear_regression, gradient_boost, splitting_two_variables_data, splitting_three_variables_data"
   ]
  },
  {
   "cell_type": "code",
   "execution_count": 9,
   "metadata": {},
   "outputs": [],
   "source": [
    "df = pd.read_csv(\"df_clean_model.csv\")"
   ]
  },
  {
   "cell_type": "code",
   "execution_count": 16,
   "metadata": {},
   "outputs": [],
   "source": [
    "df_2 = splitting_two_variables_data(df)\n",
    "X_train, X_test, y_train, y_test = df_2[0], df_2[1], df_2[2], df_2[3]"
   ]
  },
  {
   "cell_type": "code",
   "execution_count": 21,
   "metadata": {},
   "outputs": [
    {
     "name": "stdout",
     "output_type": "stream",
     "text": [
      "Linear Regression model for 2 variables.\n",
      "Overall loss is: $12374.986716486934\n",
      "Overall accuracy in percentage is 99.832%\n"
     ]
    }
   ],
   "source": [
    "linear_reg_2_var = linear_regression(X_train, X_test, y_train, y_test)"
   ]
  },
  {
   "cell_type": "code",
   "execution_count": 22,
   "metadata": {},
   "outputs": [
    {
     "name": "stdout",
     "output_type": "stream",
     "text": [
      "Gradient Boost Regression model for 2 variables.\n",
      "Overall loss is: $10081.926321968605\n",
      "Overall accuracy in percentage is 99.863%\n"
     ]
    }
   ],
   "source": [
    "gbr_2_var = gradient_boost(X_train, X_test, y_train, y_test)"
   ]
  },
  {
   "cell_type": "code",
   "execution_count": 23,
   "metadata": {},
   "outputs": [],
   "source": [
    "df_3 = splitting_three_variables_data(df)\n",
    "X3_train, X3_test, y3_train, y3_test = df_3[0], df_3[1], df_3[2], df_3[3]"
   ]
  },
  {
   "cell_type": "code",
   "execution_count": 26,
   "metadata": {},
   "outputs": [
    {
     "name": "stdout",
     "output_type": "stream",
     "text": [
      "Linear Regression model for 3 variables.\n",
      "Overall loss is: $12163.653660911687\n",
      "Overall accuracy in percentage is 99.825%\n"
     ]
    }
   ],
   "source": [
    "linear_reg_3_var = linear_regression(X3_train, X3_test, y3_train, y3_test, 3)"
   ]
  },
  {
   "cell_type": "code",
   "execution_count": 27,
   "metadata": {},
   "outputs": [
    {
     "name": "stdout",
     "output_type": "stream",
     "text": [
      "Gradient Boost Regression model for 3 variables.\n",
      "Overall loss is: $9459.791410433361\n",
      "Overall accuracy in percentage is 99.864%\n"
     ]
    }
   ],
   "source": [
    "gbr_3_var = gradient_boost(X3_train, X3_test, y3_train, y3_test, 3)"
   ]
  },
  {
   "cell_type": "code",
   "execution_count": null,
   "metadata": {},
   "outputs": [],
   "source": []
  }
 ],
 "metadata": {
  "kernelspec": {
   "display_name": "Python 3",
   "language": "python",
   "name": "python3"
  },
  "language_info": {
   "codemirror_mode": {
    "name": "ipython",
    "version": 3
   },
   "file_extension": ".py",
   "mimetype": "text/x-python",
   "name": "python",
   "nbconvert_exporter": "python",
   "pygments_lexer": "ipython3",
   "version": "3.8.5"
  }
 },
 "nbformat": 4,
 "nbformat_minor": 4
}
